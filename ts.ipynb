{
 "cells": [
  {
   "cell_type": "code",
   "execution_count": 1,
   "metadata": {},
   "outputs": [],
   "source": [
    "import numpy as np\n",
    "import math\n",
    "import sys\n",
    "import random\n",
    "import copy\n",
    "import json\n",
    "def processing_data(fname):\n",
    "    fin = open(fname, 'r')\n",
    "    a = fin.readlines()\n",
    "    fout = open(\"att48.txt\", 'w')\n",
    "    b = ''.join(a[6:-1])\n",
    "    fout.write(b)\n",
    "\n",
    "\n",
    "def read_coordinate(fname):\n",
    "    coordiante = []\n",
    "    with open(\"att48.txt\") as f:\n",
    "        for each_line in f:\n",
    "            tmp = each_line.split()\n",
    "            xy = [int(tmp[1]), int(tmp[2])]\n",
    "            coordiante.append(xy)\n",
    "    return coordiante"
   ]
  },
  {
   "cell_type": "code",
   "execution_count": 2,
   "metadata": {},
   "outputs": [],
   "source": [
    "def getdis(coordinate):\n",
    "    num = int(coordinate.shape[0])\n",
    "    dis_mat = np.zeros((num, num))\n",
    "    for i in range(num):\n",
    "        for j in range(i, num):\n",
    "            d_x = coordinate[i][0] - coordinate[j][0]\n",
    "            d_y = coordinate[i][1] - coordinate[j][1]\n",
    "            rij = math.sqrt((d_x * d_x + d_y * d_y) / 10)\n",
    "            tij = round(rij)\n",
    "            if tij == 0:\n",
    "                dis_mat[i][j] = dis_mat[j][i] = sys.maxsize\n",
    "            else:\n",
    "                dis_mat[i][j] = dis_mat[j][i] = int(tij) if tij > rij else int(tij) + 1\n",
    "    return dis_mat"
   ]
  },
  {
   "cell_type": "code",
   "execution_count": 3,
   "metadata": {},
   "outputs": [],
   "source": [
    "def cal_dis(route,distance, n):\n",
    "    sumdis = 0\n",
    "    for i in range(n - 1):\n",
    "        sumdis += distance[route[i]][route[i+1]]\n",
    "    sumdis += distance[route[n-1]][route[0]]     \n",
    "    return sumdis"
   ]
  },
  {
   "cell_type": "code",
   "execution_count": null,
   "metadata": {},
   "outputs": [],
   "source": [
    "def greedy(n):\n",
    "    #通过贪婪算法确定初始r值，也就是初始信息素浓度       \n",
    "    sum = 0.0\n",
    "    #必须实例化一个一个赋值，不然只是把地址赋值，牵一发而动全身\n",
    "    dis = [[0 for col in range(n)] for raw in range(n)]\n",
    "    for i in range(n):\n",
    "        for j in range(n):\n",
    "            dis[i][j] = distance[i][j]\n",
    "                \n",
    "    visited = []\n",
    "        #进行贪婪选择——每次都选择距离最近的\n",
    "    id = 0\n",
    "    for i in range(n):\n",
    "        for j in range(n):\n",
    "            dis[j][id] = sys.maxsize\n",
    "        minvalue = min(dis[id])\n",
    "        if i != 29:\n",
    "            sum += minvalue\n",
    "        visited.append(id)\n",
    "        id = dis[id].index(minvalue)\n",
    "    sum += distance[0][visited[n-1]]\n",
    "    return visited"
   ]
  },
  {
   "cell_type": "code",
   "execution_count": null,
   "metadata": {},
   "outputs": [],
   "source": [
    "def initial(n, best_route, best_distance, tabu_time, current_tabu_num, current_distance, current_route, tabu_list):\n",
    "    global best_route\n",
    "    global best_distance\n",
    "    global tabu_time\n",
    "    global current_tabu_num\n",
    "    global current_distance\n",
    "    global current_route\n",
    "    global tabu_list\n",
    "    #得到初始解以及初始距离\n",
    "    current_route = greedy()\n",
    "    best_route = copy.copy(current_route)\n",
    "    #函数内部修改全局变量的值\n",
    "    current_distance = cacl_best(current_route)\n",
    "    best_distance = current_distance\n",
    "    \n",
    "    #置禁忌表为空\n",
    "    tabu_list.clear()\n",
    "    tabu_time.clear()\n",
    "    current_tabu_num = 0"
   ]
  },
  {
   "cell_type": "code",
   "execution_count": null,
   "metadata": {},
   "outputs": [],
   "source": [
    "def main(runtime,):\n",
    "    processing_data(\"att48.tsp\")\n",
    "    data_list = read_coordinate(\"att48.txt\")\n",
    "    coordinate = np.array(data_list)\n",
    "    dis_mat = getdis(coordinate)\n",
    "    n = coordinate.shape[0]\n",
    "    #禁忌表\n",
    "    tabu_list = []\n",
    "    tabu_time = []\n",
    "    #当前禁忌对象数量\n",
    "    current_tabu_num = 0\n",
    "    #禁忌长度，即禁忌期限\n",
    "    tabu_limit = 50\n",
    "    #候选集\n",
    "    candidate = [[0 for col in range(n)] for raw in range(200)]\n",
    "    candidate_distance = [0 for col in range(200)]\n",
    "    #最佳路径以及最佳距离\n",
    "    best_route = []\n",
    "    best_distance = sys.maxsize\n",
    "    current_route = []\n",
    "    current_distance = 0.0\n",
    "\n",
    "    rt = runtime\n",
    "    initial(n, best_route, best_distance, tabu_time, current_tabu_num, current_distance, current_route, tabu_list)\n",
    "    "
   ]
  }
 ],
 "metadata": {
  "kernelspec": {
   "display_name": "PyCharm (TSP)",
   "language": "python",
   "name": "pycharm-5676cb0d"
  },
  "language_info": {
   "codemirror_mode": {
    "name": "ipython",
    "version": 3
   },
   "file_extension": ".py",
   "mimetype": "text/x-python",
   "name": "python",
   "nbconvert_exporter": "python",
   "pygments_lexer": "ipython3",
   "version": "3.7.4"
  }
 },
 "nbformat": 4,
 "nbformat_minor": 4
}
